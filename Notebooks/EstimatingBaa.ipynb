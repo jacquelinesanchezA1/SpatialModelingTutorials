{
  "cells": [
    {
      "cell_type": "markdown",
      "metadata": {
        "id": "view-in-github",
        "colab_type": "text"
      },
      "source": [
        "<a href=\"https://colab.research.google.com/github/jshogland/SpatialModelingTutorials/blob/main/Notebooks/EstimatingBaa.ipynb\" target=\"_parent\"><img src=\"https://colab.research.google.com/assets/colab-badge.svg\" alt=\"Open In Colab\"/></a>"
      ]
    },
    {
      "cell_type": "markdown",
      "id": "b88c1b90-7e05-48e7-bd07-f7ab5b1b403b",
      "metadata": {
        "id": "b88c1b90-7e05-48e7-bd07-f7ab5b1b403b"
      },
      "source": [
        "# Estimating BAA \n",
        "## This notebook demonstrates how to build a machine learning model using Sklearn and applying that machine learning model to predictor surfaces to make estimates of basal area per acre (BAA). \n",
        "### Author: John Hogland 3/21/2023"
      ]
    },
    {
      "cell_type": "markdown",
      "id": "e9662f6c-a7a1-4409-81c7-02df593c9106",
      "metadata": {
        "id": "e9662f6c-a7a1-4409-81c7-02df593c9106"
      },
      "source": [
        "![image.png](attachment:b2a27742-ad20-4a2b-a855-2076c697238c.png)"
      ]
    },
    {
      "cell_type": "markdown",
      "id": "472988a3-f653-427e-9ded-813e56ca9a54",
      "metadata": {
        "tags": [],
        "id": "472988a3-f653-427e-9ded-813e56ca9a54"
      },
      "source": [
        "## Install packages"
      ]
    },
    {
      "cell_type": "code",
      "execution_count": null,
      "id": "ba080125-645d-4457-a685-fa9190a094a1",
      "metadata": {
        "id": "ba080125-645d-4457-a685-fa9190a094a1"
      },
      "outputs": [],
      "source": [
        "!pip install --upgrade gdown\n",
        "!pip install --upgrade numba\n",
        "!pip install --upgrade geopandas\n",
        "!pip install mapclassify\n",
        "!pip install --upgrade datascience\n",
        "!pip install --upgrade gym\n",
        "!pip install --upgrade folium\n",
        "!pip install plotly\n",
        "!pip install laspy[lazrs,laszip]\n",
        "!pip install raster_tools\n",
        "!pip install stackstac\n",
        "!pip install planetary_computer\n",
        "!pip install pystac_client\n",
        "!pip install leafmap xarray_leaflet\n",
        "!pip install localtileserver"
      ]
    },
    {
      "cell_type": "markdown",
      "id": "29089c91-8252-4a8c-acc3-e52bd8469bef",
      "metadata": {
        "id": "29089c91-8252-4a8c-acc3-e52bd8469bef"
      },
      "source": [
        "## Get supporting python file"
      ]
    },
    {
      "cell_type": "code",
      "execution_count": null,
      "id": "601fdccd-bc60-4025-b773-a29087d38593",
      "metadata": {
        "id": "601fdccd-bc60-4025-b773-a29087d38593"
      },
      "outputs": [],
      "source": [
        "import gdown, zipfile\n",
        "\n",
        "url='https://drive.google.com/file/d/1dy7bnPKc4BPvHlH-PkrObXwb-SW9nv7n/view?usp=sharing'\n",
        "outfl= r'./rs_las.py'\n",
        "gdown.download(url=url,output=outfl,quiet=False,fuzzy=True)"
      ]
    },
    {
      "cell_type": "markdown",
      "id": "74028803-592c-43ca-b1b0-c053908c38c8",
      "metadata": {
        "id": "74028803-592c-43ca-b1b0-c053908c38c8"
      },
      "source": [
        "## The Process\n",
        "### In this notebook we will be using derivatives from Lidar data acquired from Microsoft's Planetary Computer and the dataframe developed in the [SampleDesign](https://github.com/jshogland/SpatialModelingTutorials/blob/main/Notebooks/SampleDesign.ipynb) notebook to create a basal area per acre (BAA) random forest model and predict BAA mean estimates for each predictor raster cell. This notebooks builds upon the [Sample Design](https://github.com/jshogland/SpatialModelingTutorials/blob/main/Notebooks/SampleDesign.ipynb) and [Processing](https://github.com/jshogland/SpatialModelingTutorials/blob/main/Notebooks/LidarProcessing.ipynb) notebooks at [Spatial Modeling Tutorials](https://github.com/jshogland/SpatialModelingTutorials).  \n"
      ]
    },
    {
      "cell_type": "markdown",
      "id": "dbdee2db-f9fe-4fde-b5c0-454f2d0ba99b",
      "metadata": {
        "tags": [],
        "id": "dbdee2db-f9fe-4fde-b5c0-454f2d0ba99b"
      },
      "source": [
        "### Steps\n",
        "1. Import python libraries\n",
        "2. Open train.shp file and visualize \n",
        "3. Build a random forest model to predict BAA from Lidar predictor values\n",
        "4. Apply BAA model to raster surfaces\n",
        "5. Visualize BAA surface"
      ]
    },
    {
      "cell_type": "markdown",
      "id": "41f5ac95-34f2-47d6-8a35-b2cd9666e412",
      "metadata": {
        "tags": [],
        "id": "41f5ac95-34f2-47d6-8a35-b2cd9666e412"
      },
      "source": [
        "## Step 1: Import libraries and get data\n",
        "### Import libary"
      ]
    },
    {
      "cell_type": "code",
      "execution_count": null,
      "id": "aa15c76d-8c79-4237-91d4-c9c453ba5bdf",
      "metadata": {
        "tags": [],
        "id": "aa15c76d-8c79-4237-91d4-c9c453ba5bdf"
      },
      "outputs": [],
      "source": [
        "import os\n",
        "import matplotlib.pyplot as plt\n",
        "import numpy as np\n",
        "import geopandas as gpd\n",
        "import pandas as pd\n",
        "import rs_las\n",
        "\n",
        "import planetary_computer\n",
        "import pystac_client\n",
        "import requests\n",
        "import stackstac\n",
        "\n",
        "from dask.diagnostics import ProgressBar\n",
        "\n",
        "\n",
        "from raster_tools import Raster, open_vectors, Vector, zonal\n",
        "\n",
        "from shapely.geometry import shape\n",
        "from shapely.ops import transform\n",
        "\n",
        "import leafmap.leafmap as leafmap\n",
        "from sklearn.ensemble import RandomForestRegressor\n"
      ]
    },
    {
      "cell_type": "markdown",
      "id": "3f9a6e44-479d-4c12-9cce-4046e9507707",
      "metadata": {
        "id": "3f9a6e44-479d-4c12-9cce-4046e9507707"
      },
      "source": [
        "## Step 2: Open training shape file & visualize"
      ]
    },
    {
      "cell_type": "code",
      "execution_count": null,
      "id": "1b32b8c0-0307-40d8-8b4e-3fe7cdd89b6e",
      "metadata": {
        "tags": [],
        "id": "1b32b8c0-0307-40d8-8b4e-3fe7cdd89b6e"
      },
      "outputs": [],
      "source": [
        "b_sample=open_vectors('./train.shp')\n",
        "b_sample.data.compute().explore(color='orange')"
      ]
    },
    {
      "cell_type": "markdown",
      "id": "de8835dd-2451-49e4-9969-33c3fda28025",
      "metadata": {
        "id": "de8835dd-2451-49e4-9969-33c3fda28025"
      },
      "source": [
        "## Step 3: Build Random Forest Model"
      ]
    },
    {
      "cell_type": "code",
      "execution_count": null,
      "id": "7968c410-f34b-46fc-bd44-8ccaffe8f1f1",
      "metadata": {
        "tags": [],
        "id": "7968c410-f34b-46fc-bd44-8ccaffe8f1f1"
      },
      "outputs": [],
      "source": [
        "import pickle\n",
        "import matplotlib.pyplot as plt\n",
        "import pandas\n",
        "\n",
        "gdf=b_sample.data.compute() #process data\n",
        "X = gdf[['1','2','3','4','5','6','7','8','9','10','11']] #get just predictor dataframe\n",
        "y = gdf[['BAA']] #get response dataframe\n",
        "\n",
        "# build reandom forest model (use 66% of the data, select 4 features for each tree, 50 trees, store oob RMSE)\n",
        "regr = RandomForestRegressor(max_features=4,n_estimators=50,max_samples=0.66,random_state=0,oob_score=True)\n",
        "# fit the data and view oob\n",
        "mdl=regr.fit(X, y)\n",
        "print('Out of bag R squared = ' + str(mdl.oob_score_))\n",
        "\n",
        "# store the model for later use open(path, 'wb')\n",
        "pickle.dump(mdl,open('baa_rf_mdl.mdl','wb'))\n",
        "\n",
        "# visualize importance graphs\n",
        "imp=mdl.feature_importances_\n",
        "v_imp = pandas.Series(imp, index=X.columns)\n",
        "fig, ax = plt.subplots(figsize=(14,8))\n",
        "std = np.std([tree.feature_importances_ for tree in mdl.estimators_], axis=0)\n",
        "v_imp.plot.bar(yerr=std, ax=ax)\n",
        "ax.set_title(\"Feature importances using MDI\")\n",
        "ax.set_ylabel(\"Mean decrease in MSE\")\n",
        "fig.tight_layout()"
      ]
    },
    {
      "cell_type": "markdown",
      "id": "7af982c3-cb86-4d03-8e29-de044855c7fa",
      "metadata": {
        "id": "7af982c3-cb86-4d03-8e29-de044855c7fa"
      },
      "source": [
        "## Step 4: Apply model to predictor surfaces and save the BAA raster"
      ]
    },
    {
      "cell_type": "code",
      "execution_count": null,
      "id": "af38c4e9-a822-45e3-8020-7fafeb184610",
      "metadata": {
        "tags": [],
        "id": "af38c4e9-a822-45e3-8020-7fafeb184610"
      },
      "outputs": [],
      "source": [
        "import xarray\n",
        "from dask import array as da\n",
        "\n",
        "# create predictor functions\n",
        "def _pred_raster(xarr,mdl):\n",
        "    b,y,x=xarr.shape\n",
        "    vl_arr=np.moveaxis(xarr,0,-1).reshape(y*x,b)\n",
        "    prd=mdl.predict(np.nan_to_num(vl_arr)).reshape(1,y,x)\n",
        "    return prd\n",
        "\n",
        "def predict_raster(pred_rs,mdl):\n",
        "    ds_arr=pred_rs.xdata.data\n",
        "    crds=pred_rs.xdata.coords\n",
        "    chk=pred_rs.xdata.chunksizes\n",
        "    ds_arr_out=da.map_blocks(_pred_raster,xarr=ds_arr,mdl=mdl,chunks=((1),chk['y'],chk['x']),meta=np.array((), dtype=float),dtype=float)\n",
        "    xrs=xarray.DataArray(ds_arr_out,coords={'band':[1],'y':crds['y'],'x':crds['x']})\n",
        "    rs=Raster(xrs).set_crs(pred_rs.crs)\n",
        "    return rs\n",
        "\n",
        "pred_rs=Raster('Lidar_30_metrics.tif')\n",
        "pred_rs.xdata\n",
        "est=predict_raster(pred_rs,mdl)\n",
        "est.save('BAA.tif')\n",
        "est.xdata"
      ]
    },
    {
      "cell_type": "markdown",
      "id": "f28679a2-7f5e-4568-9872-a241642ed0f2",
      "metadata": {
        "tags": [],
        "id": "f28679a2-7f5e-4568-9872-a241642ed0f2"
      },
      "source": [
        "## Step 5: Visualize BAA surface"
      ]
    },
    {
      "cell_type": "code",
      "execution_count": null,
      "id": "70c3403e-5120-42f2-bf92-1a7279265b43",
      "metadata": {
        "tags": [],
        "id": "70c3403e-5120-42f2-bf92-1a7279265b43"
      },
      "outputs": [],
      "source": [
        "#Specify the name of the predictor raster stack\n",
        "outname='BAA.tif'\n",
        "\n",
        "#Create a leafmap map object\n",
        "m = leafmap.Map()\n",
        "\n",
        "#Add ESRI's World imagery as a tile layer\n",
        "m.add_tile_layer(url='https://server.arcgisonline.com/ArcGIS/rest/services/World_Imagery/MapServer/tile/{z}/{y}/{x}', name = 'Esri Imagery',attribution='ESRI')\n",
        "\n",
        "#Add each band of the raster to the map object\n",
        "m.add_raster(outname,bands=[1], layer_name='BAA (z)')\n",
        "\n",
        "#show the map\n",
        "m"
      ]
    },
    {
      "cell_type": "markdown",
      "id": "ae071b81-3853-4020-9003-0adbe75cacb8",
      "metadata": {
        "tags": [],
        "id": "ae071b81-3853-4020-9003-0adbe75cacb8"
      },
      "source": [
        "# This ends the Estimate BAA notebook\n",
        "## Check out the other notebooks:\n",
        "- https://github.com/jshogland/SpatialModelingTutorials/tree/main/Notebooks\n",
        "## References\n",
        "- Spatial Modeling Notebooks:  https://github.com/jshogland/SpatialModelingTutorials\n",
        "- Raster-Tools GitHub: https://github.com/UM-RMRS/raster_tools\n",
        "- Hogland's Spatial Solutions: https://sites.google.com/view/hoglandsspatialsolutions/home\n",
        "- Dask: https://dask.org/\n",
        "- Geopandas:https://geopandas.org/en/stable/\n",
        "- Xarray: https://docs.xarray.dev/en/stable/\n",
        "- Jupyter: https://jupyter.org/\n",
        "- Anaconda:https://www.anaconda.com/\n",
        "- VS Code: https://code.visualstudio.com/\n",
        "- ipywidgets: https://ipywidgets.readthedocs.io/en/latest/\n",
        "- numpy:https://numpy.org/\n",
        "- matplotlib:https://matplotlib.org/\n",
        "- folium: https://python-visualization.github.io/folium/\n",
        "- pandas: https://pandas.pydata.org/\n",
        "- sklearn: https://scikit-learn.org/stable/index.html"
      ]
    }
  ],
  "metadata": {
    "kernelspec": {
      "display_name": "RStools Python 3.10",
      "language": "python",
      "name": "python3"
    },
    "language_info": {
      "codemirror_mode": {
        "name": "ipython",
        "version": 3
      },
      "file_extension": ".py",
      "mimetype": "text/x-python",
      "name": "python",
      "nbconvert_exporter": "python",
      "pygments_lexer": "ipython3",
      "version": "3.10.9"
    },
    "colab": {
      "provenance": [],
      "include_colab_link": true
    }
  },
  "nbformat": 4,
  "nbformat_minor": 5
}