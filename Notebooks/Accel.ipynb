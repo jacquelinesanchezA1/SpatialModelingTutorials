{
  "cells": [
    {
      "cell_type": "markdown",
      "id": "0730c537-44cf-4d8d-9a13-6d580c9409e4",
      "metadata": {
        "extensions": {
          "jupyter_dashboards": {
            "activeView": "grid_default",
            "views": {
              "grid_default": {
                "col": null,
                "height": 2,
                "hidden": true,
                "locked": true,
                "row": null,
                "width": 2
              }
            }
          }
        },
        "tags": [],
        "id": "0730c537-44cf-4d8d-9a13-6d580c9409e4"
      },
      "source": [
        "# TCSI Potential Cost Demonstration: Notebook\n",
        "Author: John Hogland 4/20/2022\n",
        "\n",
        "\n",
        "\n",
        "## Estimate Potential Costs for TCSI using raster_tools\n",
        "\n",
        "In this notebook we will explore how we can estimate potential treatment costs in the TCSI study area.\n",
        "\n",
        "note book requirements: \n",
        "- raster_tools - https://pypi.org/project/raster-tools/\n",
        "\n",
        "## Install and update packages"
      ]
    },
    {
      "cell_type": "code",
      "execution_count": null,
      "id": "5859f757-c287-427a-9e3a-aded18e87de5",
      "metadata": {
        "id": "5859f757-c287-427a-9e3a-aded18e87de5"
      },
      "outputs": [],
      "source": [
        "!pip install --upgrade gdown\n",
        "!pip install --upgrade numba\n",
        "!pip install --upgrade geopandas\n",
        "!pip install mapclassify\n",
        "!pip install --upgrade datascience\n",
        "!pip install --upgrade gym\n",
        "!pip install raster_tools"
      ]
    },
    {
      "cell_type": "markdown",
      "id": "768d407f-f09f-488b-ad48-564cbc963c95",
      "metadata": {
        "id": "768d407f-f09f-488b-ad48-564cbc963c95"
      },
      "source": [
        "## Download the data\n",
        "You can skip this step if you already have access to the data."
      ]
    },
    {
      "cell_type": "code",
      "execution_count": null,
      "id": "37e1b2b6-e4c8-4736-9b37-734936255d2a",
      "metadata": {
        "extensions": {
          "jupyter_dashboards": {
            "activeView": "grid_default",
            "views": {
              "grid_default": {
                "col": null,
                "height": 2,
                "hidden": true,
                "locked": true,
                "row": null,
                "width": 2
              }
            }
          }
        },
        "tags": [],
        "id": "37e1b2b6-e4c8-4736-9b37-734936255d2a"
      },
      "outputs": [],
      "source": [
        "\n",
        "import gdown, zipfile\n",
        "\n",
        "url = r'https://drive.google.com/file/d/1HKSfolOmKzyd6BjR3DLtu96ENc9I6MHM/view?usp=sharing'\n",
        "outfl= r'.\\ACCEL_Notebook_data.zip'\n",
        "gdown.download(url=url,output=outfl,quiet=False,fuzzy=True)\n",
        "\n",
        "with zipfile.ZipFile(outfl, 'r') as zip_ref:\n",
        "   zip_ref.extractall(\".\")"
      ]
    },
    {
      "cell_type": "markdown",
      "id": "e74c7706-eb92-4868-b3e1-0ddd528abb3c",
      "metadata": {
        "extensions": {
          "jupyter_dashboards": {
            "activeView": "grid_default",
            "views": {
              "grid_default": {
                "col": null,
                "height": 2,
                "hidden": true,
                "locked": true,
                "row": null,
                "width": 2
              }
            }
          }
        },
        "id": "e74c7706-eb92-4868-b3e1-0ddd528abb3c"
      },
      "source": [
        "## The Data (Accel.gdb)\n",
        "This database consists of Raster and Vector datasets that we will be using throughout the example:\n",
        "- elevation (raster): elevation surface units meters\n",
        "- roads (vector): tiger roads\n",
        "- streams (vector): NHD streams\n",
        "- water bodies (vector): NHD water bodies\n",
        "- sawmills (vector): location of the sawmill\n",
        "- biomass facilities (vector): location of biomass facilities\n"
      ]
    },
    {
      "cell_type": "markdown",
      "id": "b24a3056-6395-4a5b-bc55-87924d851d86",
      "metadata": {
        "extensions": {
          "jupyter_dashboards": {
            "activeView": "grid_default",
            "views": {
              "grid_default": {
                "col": 1,
                "height": 4,
                "hidden": false,
                "locked": true,
                "row": 16,
                "width": 11
              }
            }
          }
        },
        "tags": [],
        "id": "b24a3056-6395-4a5b-bc55-87924d851d86"
      },
      "source": [
        "## Base Raster and Vector Datasets \n",
        "Import raster_tools and modules, specify paths, and make vector and raster objects."
      ]
    },
    {
      "cell_type": "code",
      "execution_count": null,
      "id": "e044164b-ab55-4a4c-9da4-fe55ea212032",
      "metadata": {
        "extensions": {
          "jupyter_dashboards": {
            "activeView": "grid_default",
            "views": {
              "grid_default": {
                "col": null,
                "height": 2,
                "hidden": true,
                "locked": true,
                "row": null,
                "width": 2
              }
            }
          }
        },
        "tags": [],
        "id": "e044164b-ab55-4a4c-9da4-fe55ea212032"
      },
      "outputs": [],
      "source": [
        "#import raster_tools and modules \n",
        "from raster_tools import Raster, surface, distance, open_vectors, general, zonal, creation, Vector\n",
        "import raster_tools\n",
        "import geopandas as gpd\n",
        "import numpy as np\n",
        "import matplotlib.pyplot as plt\n",
        "\n",
        "#specify paths to data layers\n",
        "flgeodb = './Accel.gdb'\n",
        "lyr_streams_path = 'NHDFlowLine'\n",
        "lyr_roads_path = 'TigerRoads'\n",
        "lyr_sawmill_path = 'Sawmills'\n",
        "lyr_biomass_path = 'BiomassFacilities'\n",
        "lyr_waterbody_path = 'NHDWaterBodies'\n",
        "rs_elv_path = './Elevation.tif'\n",
        "\n",
        "#get the vectors and rasters objects\n",
        "strms, rds, saw, bio, wtrbd = open_vectors(flgeodb,[lyr_streams_path,lyr_roads_path,lyr_sawmill_path,lyr_biomass_path,lyr_waterbody_path])\n",
        "\n",
        "#get rasters\n",
        "elv=Raster(rs_elv_path).astype('int32')"
      ]
    },
    {
      "cell_type": "markdown",
      "id": "4d149a56-2063-4c54-bf39-ac131a443e15",
      "metadata": {
        "id": "4d149a56-2063-4c54-bf39-ac131a443e15"
      },
      "source": [
        "## Subset TigerRoads & NHD\n",
        "1. For TigerRoads we only want public roads (MTFCC: S1100,S1200,S1400,S1500,S1630)\n",
        "2. For NHDFlowLine we only want perennial and piplines (FCode: not (55800, 56600, 33400, 46000, 46003, 46007, 42000, 42001, 42002, 42003)"
      ]
    },
    {
      "cell_type": "code",
      "execution_count": null,
      "id": "27b0ed3c-f516-4766-a50a-9764795526c6",
      "metadata": {
        "id": "27b0ed3c-f516-4766-a50a-9764795526c6"
      },
      "outputs": [],
      "source": [
        "strms_sub=Vector(strms.data[(strms.data['fcode'] != 55800) & (strms.data['fcode'] != 56600) & (strms.data['fcode'] != 33400) \n",
        "                     & (strms.data['fcode'] != 46000) & (strms.data['fcode'] != 46003) & (strms.data['fcode'] != 46007)\n",
        "                     & (strms.data['fcode'] != 42000) & (strms.data['fcode'] != 42001) & (strms.data['fcode'] != 42002)\n",
        "                     & (strms.data['fcode'] != 42003)])\n",
        "\n",
        "rds_sub=Vector(rds.data[(rds.data['MTFCC'] == 'S1100') | (rds.data['MTFCC'] == 'S1200') | (rds.data['MTFCC'] == 'S1400')\n",
        "                        | (rds.data['MTFCC'] == 'S1500') | (rds.data['MTFCC'] == 'S1630')])"
      ]
    },
    {
      "cell_type": "markdown",
      "id": "5085ec89-a637-4371-ba63-1712f0ce207d",
      "metadata": {
        "id": "5085ec89-a637-4371-ba63-1712f0ce207d"
      },
      "source": [
        "## Plot the data"
      ]
    },
    {
      "cell_type": "code",
      "execution_count": null,
      "id": "2d1c102b-9e28-44d3-9070-3bcf9ec27fa9",
      "metadata": {
        "extensions": {
          "jupyter_dashboards": {
            "activeView": "grid_default",
            "views": {
              "grid_default": {
                "col": 1,
                "height": 13,
                "hidden": false,
                "locked": true,
                "row": 3,
                "width": 11
              }
            }
          }
        },
        "tags": [],
        "id": "2d1c102b-9e28-44d3-9070-3bcf9ec27fa9"
      },
      "outputs": [],
      "source": [
        "# plot the data\n",
        "p0=bio.data.compute().plot(color='red',figsize=(15,12),zorder=6,linewidth=3)\n",
        "p1=saw.data.compute().plot(ax=p0,color='yellow',zorder=5,linewidth=3)\n",
        "p2=rds_sub.data.compute().plot(ax=p1,color='dimgray',zorder=4,linewidth=1)\n",
        "p3=strms_sub.data.compute().plot(ax=p2,color='deepskyblue',zorder=3,linewidth=0.5)\n",
        "p4=wtrbd.data.compute().plot(ax=p3,color='deepskyblue',zorder=2)\n",
        "p5=elv.pxrs.plot(ax=p4,robust=True,cmap=plt.cm.gist_earth,zorder=1)\n",
        "p5"
      ]
    },
    {
      "cell_type": "markdown",
      "id": "a5db9e5f-75f3-42c4-9e0e-e09def17d1bb",
      "metadata": {
        "extensions": {
          "jupyter_dashboards": {
            "activeView": "grid_default",
            "views": {
              "grid_default": {
                "col": null,
                "height": 2,
                "hidden": true,
                "locked": true,
                "row": null,
                "width": 2
              }
            }
          }
        },
        "id": "a5db9e5f-75f3-42c4-9e0e-e09def17d1bb"
      },
      "source": [
        "# The Process\n",
        "1. Attribute TigerRoads subset with speed based on criteria in **Table 1**.\n",
        "2. Create barrier to offroad motion for off road analysis.\n",
        "3. Estimate potential on road and offroad cost surfaces for each harvesting system using criteria in **Table 2**.\n",
        "4. Create felling and processing surfaces and add potential costs.\n",
        "5. Specify where harvesting systems occur and subset system costs to those locations."
      ]
    },
    {
      "cell_type": "markdown",
      "id": "a16bdc91-dddb-4940-8ca2-4a89d52677f7",
      "metadata": {
        "id": "a16bdc91-dddb-4940-8ca2-4a89d52677f7"
      },
      "source": [
        "**Table 1**. Road segment travel speed by tiger MTFCC class types.\n",
        "\n",
        "|Query|Speed (KPH)|\n",
        "|:-|:-:|\n",
        "|MTFCC = “S1400”: Local Road, Rural Road, City Street|40|\n",
        "MTFCC = “S1200”: Secondary road|56|\n",
        "MTFCC = “S1100”: Primary road|88|\n",
        "NOT (MTFCC = “S1400” OR MTFCC = “S1200” OR MTFCC = “S1100”)|40|"
      ]
    },
    {
      "cell_type": "markdown",
      "id": "3089c80b-1c79-4acc-a02a-dfaa3cda448d",
      "metadata": {
        "id": "3089c80b-1c79-4acc-a02a-dfaa3cda448d"
      },
      "source": [
        "### 1. Attribute roads layer with speed values and conversion factors that can be used to estimate on road \\$\\CCF"
      ]
    },
    {
      "cell_type": "code",
      "execution_count": null,
      "id": "3167035a-2fa0-4501-b313-d73f9f22d508",
      "metadata": {
        "id": "3167035a-2fa0-4501-b313-d73f9f22d508"
      },
      "outputs": [],
      "source": [
        "#rds_sub=Vector(rds.data[(rds.data['RTTYP'] != 'M') & (rds.data['RTTYP'] != 'O')])\n",
        "mtfcc_dic={'S1400':40,'S1200':56,'S1100':88}\n",
        "rds_sub.data['kph']=rds_sub.data['MTFCC'].map(mtfcc_dic)\n",
        "rds_sub.data['kph']=rds_sub.data['kph'].fillna(40)\n",
        "rds_sub.data['conv']=2*((1/(rds_sub.data['kph']*1000))/12.5*98)"
      ]
    },
    {
      "cell_type": "markdown",
      "id": "d329f541-cdc6-4ad1-be59-4bfd639027ed",
      "metadata": {
        "id": "d329f541-cdc6-4ad1-be59-4bfd639027ed"
      },
      "source": [
        "### 2. Create barriers to offroad motion"
      ]
    },
    {
      "cell_type": "code",
      "execution_count": null,
      "id": "f8fcde6f-ee77-4ef9-a33b-3a31c09b1e60",
      "metadata": {
        "id": "f8fcde6f-ee77-4ef9-a33b-3a31c09b1e60"
      },
      "outputs": [],
      "source": [
        "#Streams, cannals, and waterbodies\n",
        "strms_rs_bar=strms_sub.to_raster(elv, all_touched=True).set_null_value(None) < 1 #convert the subset of streams into a raster and select all none stream cells\n",
        "wtr_rs_bar=(wtrbd.to_raster(elv,all_touched=True).set_null_value(None)) < 1 # convert WaterBodies to a raster and select all none water body cells\n",
        "\n",
        "# Interstates and Hwys\n",
        "rds_sub2=Vector(rds_sub.data[(rds_sub.data['RTTYP'] == 'U') | (rds_sub.data['RTTYP'] == 'I')])\n",
        "rds_rs_bar=rds_sub2.to_raster(elv).set_null_value(None) < 1 #convert interstate and state HWYs to a raster and select all none road cells\n",
        "\n",
        "# Create barrier raster. Cell values of 1 mean equipment can move through the cell, valeus of zero mean equipment cannot move throught the cell.\n",
        "bar = rds_rs_bar.eval()\n",
        "bar2 = (bar*strms_rs_bar * wtr_rs_bar).eval()"
      ]
    },
    {
      "cell_type": "markdown",
      "id": "83fe0960-afaa-477f-a48d-be9e3c967ff4",
      "metadata": {
        "id": "83fe0960-afaa-477f-a48d-be9e3c967ff4"
      },
      "source": [
        "### 3. Estimate distance surfaces"
      ]
    },
    {
      "cell_type": "code",
      "execution_count": null,
      "id": "e70de8a0-3dbe-4395-8093-2a032cefcf1f",
      "metadata": {
        "id": "e70de8a0-3dbe-4395-8093-2a032cefcf1f"
      },
      "outputs": [],
      "source": [
        "# create slope and road distance surfaces\n",
        "slp = surface.slope(elv,degrees=False).eval() #compute so that slope only needs to be calculated once\n",
        "c_rs = creation.constant_raster(elv).set_null_value(0) #constant value of 1 to multiply by distance\n",
        "rds_rs = (rds_sub.to_raster(elv,'conv').set_null_value(0)).eval() #source surface with all non-road cells (value of zero) set to null\n",
        "rd_dist=distance.cda_cost_distance(c_rs,(rds_rs>0).astype(int),elv)\n",
        "\n",
        "# convert onroad rates and payload into on road cost surface that can be multiplied by the surface distance along a roadway to estimate hauling costs\n",
        "saw_rs=(saw.to_raster(elv).set_null_value(0)).eval()\n",
        "bio_rs=(bio.to_raster(elv).set_null_value(0)).eval()\n",
        "on_d_saw = distance.cda_cost_distance(rds_rs,saw_rs,elv)\n",
        "on_d_bio = distance.cda_cost_distance(rds_rs,bio_rs,elv)"
      ]
    },
    {
      "cell_type": "code",
      "execution_count": null,
      "id": "514b0348-0573-44fa-9e32-c6686da8a7e7",
      "metadata": {
        "id": "514b0348-0573-44fa-9e32-c6686da8a7e7"
      },
      "outputs": [],
      "source": [
        "# convert onroad surfaces to source surfaces measured in cents / CCF\n",
        "src_saw = (on_d_saw * 100 * bar).astype(int)\n",
        "src_bio = (on_d_bio * 100 * bar).astype(int)"
      ]
    },
    {
      "cell_type": "code",
      "execution_count": null,
      "id": "b8c21ec8-f819-413b-8658-213d11189c5c",
      "metadata": {
        "id": "b8c21ec8-f819-413b-8658-213d11189c5c"
      },
      "outputs": [],
      "source": [
        "# create offroad surface distance surfaces that can be muliplied by rates to estimate dollars per unit\n",
        "\n",
        "#barriers to motion\n",
        "b_dst_cs=bar.set_null_value(0) # helicopter\n",
        "b_dst_cs2=bar2.set_null_value(0) # skidding and cable\n",
        "\n",
        "#calc distance\n",
        "saw_d,saw_t,saw_a=distance.cost_distance_analysis(b_dst_cs2,src_saw,elv)\n",
        "saw_dh,saw_th,saw_ah=distance.cost_distance_analysis(b_dst_cs,src_saw,elv)\n",
        "\n",
        "bio_d,bio_t,bio_a=distance.cost_distance_analysis(b_dst_cs2,src_bio,elv)\n",
        "bio_dh,bio_th,bio_ah=distance.cost_distance_analysis(b_dst_cs,src_bio,elv)"
      ]
    },
    {
      "cell_type": "markdown",
      "id": "711f88f2-3440-476e-bb73-970590e2c515",
      "metadata": {
        "id": "711f88f2-3440-476e-bb73-970590e2c515"
      },
      "source": [
        "### 4. Create harvesting system costs (hauling, yarding, felling, and processing; **Table 2**)."
      ]
    },
    {
      "cell_type": "markdown",
      "id": "700168c2-5720-4cf9-97e2-5441969af4e0",
      "metadata": {
        "tags": [],
        "id": "700168c2-5720-4cf9-97e2-5441969af4e0"
      },
      "source": [
        "**Table 2**. Criteria used to spatially define harvesting systems and treatment costs. Machine rate of travel, and capacity estimates derived from meetings with Lisa Ball, Jacob Baker, Michael Jow, and Brian McCrory.\n",
        "\n",
        "|Component|Machine|Machine Rate|Rate of travel|Payload|Where it can occur|\n",
        "|:-:|:-:|:-:|:-:|:-:|:-:|\n",
        "|       |Rubber tire skidder|\\$165/hr|2.44 KPH|1.25 CCF|Slopes <= 35% and Next to Roads ( distance < 460 m from a road).|\n",
        "|Offroad|Skyline|\\$400/hr|3.35KPH|1.04 CCF|Slopes > 35% and within 305 m of a road.|\n",
        "|       |Helicopter|\\$8,000/hr|3.85|1.67 CCF|Areas not covered by the other two and distance < 915 m from landing area.|\n",
        "|Felling|Feller buncher|\\$15/CCF|NA|NA|Slopes <= 35%|\n",
        "|       |Hand Felling|\\$27/CCF|NA|NA|Slopes > 35%|\n",
        "|Processing|Delimbing, cutting to length, chipping, and loading|\\$56/CCF|NA|NA|NA|\n",
        "|On road|Log Truck|\\$98/hour|Table 1|12.5 CCF|NA|"
      ]
    },
    {
      "cell_type": "code",
      "execution_count": null,
      "id": "61d6c2a6-fcee-4981-a4fc-b4f0e77bf7b1",
      "metadata": {
        "id": "61d6c2a6-fcee-4981-a4fc-b4f0e77bf7b1"
      },
      "outputs": [],
      "source": [
        "# Onroad, offroad, Felling, and processing costs\n",
        "f1=slp<=0.35\n",
        "fell=(f1*15).where(f1,27)\n",
        "prc=creation.constant_raster(elv,56).astype(float)\n",
        "oc=fell+prc\n",
        "\n",
        "# Convert offroad rates a mulitiply that can be used to calculate dollars per ccf given distance\n",
        "s_c= (2 * (1/(2440))/1.25*165)\n",
        "c_c= (2 * (1/(3350))/1.04*400)\n",
        "h_c= (2 * (1/(3850))/1.67*8000)\n",
        "\n",
        "# Calculate potential saw costs $/CCF\n",
        "sk_saw_cost=(saw_d * s_c) + (saw_a/100) + oc\n",
        "cb_saw_cost=(saw_d * c_c) + (saw_a/100) + oc\n",
        "hd_saw_cost=(saw_dh * h_c) + (saw_ah/100) + oc\n",
        "\n",
        "# Calculate potential bio costs $/CCF\n",
        "sk_bio_cost = (bio_d * s_c) + (bio_a/100) + oc\n",
        "cb_bio_cost = (bio_d * c_c) + (bio_a/100) + oc\n",
        "hd_bio_cost = (bio_dh * h_c) + (bio_ah/100) + oc"
      ]
    },
    {
      "cell_type": "markdown",
      "id": "e0ed117e-2620-449a-8720-77f411397543",
      "metadata": {
        "id": "e0ed117e-2620-449a-8720-77f411397543"
      },
      "source": [
        "#### Visualize harvesting systems potential costs (\\$/CCF)\n",
        "Rubber Tire Skidder, Cable, Helicopter for Sawlog and Biomass conversion facilities"
      ]
    },
    {
      "cell_type": "code",
      "execution_count": null,
      "id": "1db79d0f-6af6-457f-a73c-fd4bbf3de5c4",
      "metadata": {
        "id": "1db79d0f-6af6-457f-a73c-fd4bbf3de5c4"
      },
      "outputs": [],
      "source": [
        "import matplotlib.pyplot as plt\n",
        "f, axes = plt.subplots(figsize=(15, 6), ncols=3, nrows=2,tight_layout=True)\n",
        "\n",
        "cnt=0\n",
        "rs_arr = [sk_saw_cost,cb_bio_cost,hd_saw_cost,sk_bio_cost,cb_saw_cost,hd_bio_cost] \n",
        "for x in rs_arr:\n",
        "    rs_arr[cnt].pxrs.plot(ax=axes[cnt%2][cnt%3],cmap='RdYlGn_r',robust=True)\n",
        "    cnt+=1"
      ]
    },
    {
      "cell_type": "markdown",
      "id": "fa3c2acb-07f9-4b60-b37d-8176a0055936",
      "metadata": {
        "id": "fa3c2acb-07f9-4b60-b37d-8176a0055936"
      },
      "source": [
        "### 5. Specify where harvesting systems occur and subset harvesting system costs to those locations"
      ]
    },
    {
      "cell_type": "code",
      "execution_count": null,
      "id": "3e4c22cd-177d-49dc-9504-9e30990d20d1",
      "metadata": {
        "id": "3e4c22cd-177d-49dc-9504-9e30990d20d1"
      },
      "outputs": [],
      "source": [
        "# specify where each operation can occur\n",
        "sb = (slp<=0.35) & (rd_dist<460)\n",
        "cb = ((slp>0.35) & (rd_dist<305))\n",
        "hb = ((sb == 0) & (cb == 0) & (rd_dist < 915))\n",
        "\n",
        "# Combine saw costs\n",
        "skd_saw = sb * sk_saw_cost\n",
        "cab_saw = cb * cb_saw_cost\n",
        "hel_saw = hb * hd_saw_cost\n",
        "saw_cost= (skd_saw + cab_saw + hel_saw).set_null_value(0).eval()\n",
        "\n",
        "# Combine bio costs\n",
        "skd_bio = sb * sk_bio_cost\n",
        "cab_bio = cb * cb_bio_cost\n",
        "hel_bio = hb * hd_bio_cost\n",
        "bio_cost= (skd_bio + cab_bio + hel_bio).set_null_value(0).eval()"
      ]
    },
    {
      "cell_type": "markdown",
      "id": "b64f2325-350a-4d9f-989b-ebd7e550b563",
      "metadata": {
        "id": "b64f2325-350a-4d9f-989b-ebd7e550b563"
      },
      "source": [
        "#### Save final outputs"
      ]
    },
    {
      "cell_type": "code",
      "execution_count": null,
      "id": "5fd326b3-91a2-4d10-a555-d2e7ffaa340a",
      "metadata": {
        "id": "5fd326b3-91a2-4d10-a555-d2e7ffaa340a"
      },
      "outputs": [],
      "source": [
        "saw_cost.save('saw_cost.tif')\n",
        "bio_cost.save('bio_cost.tif')"
      ]
    },
    {
      "cell_type": "markdown",
      "id": "c9bfbb2b-8b65-464a-9a08-ba0a0befe693",
      "metadata": {
        "id": "c9bfbb2b-8b65-464a-9a08-ba0a0befe693"
      },
      "source": [
        "#### Visualize combined potential costs $/CCF"
      ]
    },
    {
      "cell_type": "code",
      "execution_count": null,
      "id": "7707ef14-ec5f-4e4c-9339-4610a36634ea",
      "metadata": {
        "id": "7707ef14-ec5f-4e4c-9339-4610a36634ea"
      },
      "outputs": [],
      "source": [
        "f, axes = plt.subplots(figsize=(20, 6), ncols=2, nrows=1,tight_layout=True)\n",
        "\n",
        "cnt=0\n",
        "clms=['Saw Cost','Biomass Cost']\n",
        "rs_arr = [saw_cost,bio_cost]\n",
        "for x in clms:\n",
        "    rs_arr[cnt].pxrs.plot(ax=axes[cnt],cmap='RdYlGn_r',robust=True)\n",
        "    axes[cnt].set_title(x, fontdict={'fontsize': 25, 'fontweight' : 3})\n",
        "    cnt+=1"
      ]
    }
  ],
  "metadata": {
    "extensions": {
      "jupyter_dashboards": {
        "activeView": "grid_default",
        "version": 1,
        "views": {
          "grid_default": {
            "cellMargin": 2,
            "defaultCellHeight": 40,
            "maxColumns": 12,
            "name": "grid",
            "type": "grid"
          }
        }
      }
    },
    "kernelspec": {
      "display_name": "Python 3 (ipykernel)",
      "language": "python",
      "name": "python3"
    },
    "language_info": {
      "codemirror_mode": {
        "name": "ipython",
        "version": 3
      },
      "file_extension": ".py",
      "mimetype": "text/x-python",
      "name": "python",
      "nbconvert_exporter": "python",
      "pygments_lexer": "ipython3",
      "version": "3.9.12"
    },
    "toc-autonumbering": false,
    "toc-showcode": false,
    "toc-showmarkdowntxt": false,
    "colab": {
      "name": "Accel.ipynb",
      "provenance": []
    }
  },
  "nbformat": 4,
  "nbformat_minor": 5
}