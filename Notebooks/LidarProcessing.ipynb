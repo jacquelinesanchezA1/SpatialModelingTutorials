{
  "cells": [
    {
      "cell_type": "markdown",
      "metadata": {
        "id": "view-in-github",
        "colab_type": "text"
      },
      "source": [
        "<a href=\"https://colab.research.google.com/github/jshogland/SpatialModelingTutorials/blob/main/Notebooks/LidarProcessing.ipynb\" target=\"_parent\"><img src=\"https://colab.research.google.com/assets/colab-badge.svg\" alt=\"Open In Colab\"/></a>"
      ]
    },
    {
      "cell_type": "markdown",
      "id": "be9f2621-f5c5-47c7-a243-6c9db4f3178a",
      "metadata": {
        "tags": [],
        "id": "be9f2621-f5c5-47c7-a243-6c9db4f3178a"
      },
      "source": [
        "# Processing Lidar Data from USGS 3Dep program\n",
        "## This notebook demonstrates how to process lidar data using [raster_tools](https://pypi.org/project/raster-tools/), delayed processing, and automated scheduling for parallel processes \n",
        "\n",
        "### Author John Hogland 3/13/2023"
      ]
    },
    {
      "cell_type": "markdown",
      "id": "532808f8-652a-4f5d-82ea-733b49995e68",
      "metadata": {
        "id": "532808f8-652a-4f5d-82ea-733b49995e68"
      },
      "source": [
        "![image.png](attachment:d22a88e1-c066-4319-a3b1-9052730dd98d.png)"
      ]
    },
    {
      "cell_type": "markdown",
      "id": "7c0f31bb-b988-4262-aaf3-faadadeab7da",
      "metadata": {
        "id": "7c0f31bb-b988-4262-aaf3-faadadeab7da"
      },
      "source": [
        "## Install packages"
      ]
    },
    {
      "cell_type": "code",
      "execution_count": null,
      "id": "7332b79a-6375-4304-888f-202a551150cf",
      "metadata": {
        "id": "7332b79a-6375-4304-888f-202a551150cf"
      },
      "outputs": [],
      "source": [
        "!pip install --upgrade gdown\n",
        "!pip install --upgrade numba\n",
        "!pip install --upgrade geopandas\n",
        "!pip install mapclassify\n",
        "!pip install --upgrade datascience\n",
        "!pip install --upgrade gym\n",
        "!pip install --upgrade folium\n",
        "!pip install plotly\n",
        "!pip install laspy[lazrs,laszip]\n",
        "!pip install raster_tools\n",
        "!pip install stackstac\n",
        "!pip install planetary_computer\n",
        "!pip install pystac_client\n",
        "!pip install leafmap xarray_leaflet\n",
        "!pip install localtileserver"
      ]
    },
    {
      "cell_type": "markdown",
      "id": "c212a0ce-3cb2-483f-b871-f33cf3a0e872",
      "metadata": {
        "id": "c212a0ce-3cb2-483f-b871-f33cf3a0e872"
      },
      "source": [
        "## Get supporting python file"
      ]
    },
    {
      "cell_type": "code",
      "execution_count": null,
      "id": "7ecf7b21-7adb-4e55-a70f-3839b0fdd312",
      "metadata": {
        "id": "7ecf7b21-7adb-4e55-a70f-3839b0fdd312"
      },
      "outputs": [],
      "source": [
        "import gdown, zipfile\n",
        "\n",
        "url='https://drive.google.com/file/d/1dy7bnPKc4BPvHlH-PkrObXwb-SW9nv7n/view?usp=sharing'\n",
        "outfl= r'./rs_las.py'\n",
        "gdown.download(url=url,output=outfl,quiet=False,fuzzy=True)"
      ]
    },
    {
      "cell_type": "markdown",
      "id": "cc442b75-3d5d-4bdd-afcd-76d125df3a62",
      "metadata": {
        "tags": [],
        "id": "cc442b75-3d5d-4bdd-afcd-76d125df3a62"
      },
      "source": [
        "## The Process\n",
        "### We will be using 3dep point cloud data to create delayed processing Raster objects of multiple vegetation metrics. As part of this notebook we will explore the coding behind converting point cloud data into delayed Raster objects. The metrics we will create from the lidar data include:\n",
        "- zmean : mean height\n",
        "- zmax : max height\n",
        "- zp10, zp25, zp50, zp75, zp90, zp99 : percentile\n",
        "- zfcc : canopy cover\n",
        "- zfsc : shrub cover\n",
        "- zcv : coefficient of variation\n",
        "\n",
        "### Steps\n",
        "1. Import python libraries and download laz files\n",
        "2. Visualize laz file boundaries\n",
        "3. Create laz predictors \n",
        "4. Visualize surface metrics\n",
        "5. Save Raster Surfaces\n",
        "6. Explore rs_las and how point clouds are being processed"
      ]
    },
    {
      "cell_type": "markdown",
      "id": "23b68f2e-b3d4-444a-ac83-09dc351c822b",
      "metadata": {
        "tags": [],
        "id": "23b68f2e-b3d4-444a-ac83-09dc351c822b"
      },
      "source": [
        "## Step 1: Import libraries and get data\n",
        "### Import libary"
      ]
    },
    {
      "cell_type": "code",
      "execution_count": null,
      "id": "cac5a0c6-e02e-49f4-bb2e-6204859e15bb",
      "metadata": {
        "tags": [],
        "id": "cac5a0c6-e02e-49f4-bb2e-6204859e15bb"
      },
      "outputs": [],
      "source": [
        "import os\n",
        "import matplotlib.pyplot as plt\n",
        "import numpy as np\n",
        "import geopandas as gpd\n",
        "import pandas as pd\n",
        "import rs_las\n",
        "\n",
        "from dask.diagnostics import ProgressBar\n",
        "\n",
        "\n",
        "from raster_tools import Raster\n",
        "\n",
        "from shapely.geometry import shape\n",
        "from shapely.ops import transform\n",
        "\n",
        "import leafmap.leafmap as leafmap"
      ]
    },
    {
      "cell_type": "markdown",
      "id": "1e684042-9e3b-418d-98b6-0a31bbac795c",
      "metadata": {
        "id": "1e684042-9e3b-418d-98b6-0a31bbac795c"
      },
      "source": [
        "### Get the laz data from Planetary Computer\n",
        "#### We will be using laz files downloaded from Planetary Computer for a small area around Helena MT. To download the laz files run the following cell or work through the [LidarDownload.ipynb](https://github.com/jshogland/SpatialModelingTutorials/blob/main/Notebooks/LidarDownload.ipynb) notebook."
      ]
    },
    {
      "cell_type": "code",
      "execution_count": null,
      "id": "df7bb166-f055-4e95-829a-fbfabb34f220",
      "metadata": {
        "id": "df7bb166-f055-4e95-829a-fbfabb34f220"
      },
      "outputs": [],
      "source": [
        "import planetary_computer\n",
        "import pystac_client\n",
        "import requests\n",
        "\n",
        "loc = {\"type\": \"Point\", \"coordinates\": [-112.027, 46.64]}\n",
        "geom = shape(loc)\n",
        "\n",
        "catalog = pystac_client.Client.open(\"https://planetarycomputer.microsoft.com/api/stac/v1\", modifier=planetary_computer.sign_inplace)\n",
        "\n",
        "search = catalog.search(collections=[\"3dep-lidar-copc\"], intersects=geom.buffer(0.01))\n",
        "ic = search.get_all_items()\n",
        "\n",
        "#create a output folder if it does not already exist\n",
        "\n",
        "output_folder= './lidar_cloud'\n",
        "if(not os.path.exists(output_folder)): os.mkdir(output_folder)\n",
        "\n",
        "for tile in ic:\n",
        "        url = tile.assets[\"data\"].href\n",
        "        nm = tile.id + '.copc.laz'\n",
        "        print('downloading ' + nm)\n",
        "        r=requests.get(url,allow_redirects=True)\n",
        "        open(output_folder+'/'+nm,'wb').write(r.content)"
      ]
    },
    {
      "cell_type": "markdown",
      "id": "e5e20443-e21f-4235-92c2-bb05229ef133",
      "metadata": {
        "id": "e5e20443-e21f-4235-92c2-bb05229ef133"
      },
      "source": [
        "## Step 2: Visualize the las file points and boundaries\n",
        "### Setup the grid scheme and display the boundary of each tile in folium\n",
        "- Read the tile boundary and create polygons (rs_las.build_extents)\n",
        "- Create a systematic grid based on a defined spatial resolution (xsteps, ysteps)\n",
        "- Plot the results of the geopandas dataframe in folium"
      ]
    },
    {
      "cell_type": "code",
      "execution_count": null,
      "id": "ae346b90-bdc0-4760-8042-26068176b3f1",
      "metadata": {
        "tags": [],
        "id": "ae346b90-bdc0-4760-8042-26068176b3f1"
      },
      "outputs": [],
      "source": [
        "%%time\n",
        "\n",
        "laz_dir = './lidar_cloud'\n",
        "laz_files_lst=[]\n",
        "for f in os.listdir(laz_dir):\n",
        "    if f[-4:]=='.laz': laz_files_lst.append(laz_dir+\"/\"+f)\n",
        "\n",
        "res=30\n",
        "\n",
        "gdf=rs_las.build_extents(laz_files_lst)\n",
        "xmin,ymin,xmax,ymax=gdf.total_bounds\n",
        "\n",
        "xsteps=np.arange(xmin,xmax,res)\n",
        "ysteps=np.arange(ymin,ymax,res)\n"
      ]
    },
    {
      "cell_type": "markdown",
      "id": "189a7cee-5765-4b45-9a72-b3add45f3a51",
      "metadata": {
        "id": "189a7cee-5765-4b45-9a72-b3add45f3a51"
      },
      "source": [
        "### Visualize first 10,000 points from tile 3 of the point cloud in an interactive display (plotly)"
      ]
    },
    {
      "cell_type": "code",
      "execution_count": null,
      "id": "e9d4d072-08e7-4032-a8ab-158a2226fc4c",
      "metadata": {
        "tags": [],
        "id": "e9d4d072-08e7-4032-a8ab-158a2226fc4c"
      },
      "outputs": [],
      "source": [
        "import plotly.express as px\n",
        "import laspy\n",
        "\n",
        "las = laspy.read(laz_files_lst[3])\n",
        "\n",
        "#Import LAS into numpy array (X=raw integer value x=scaled float value)\n",
        "xyz=las.xyz\n",
        "l_atts = {\n",
        "    'intensity':np.array(las.intensity).transpose(),\n",
        "    'classification':np.array(las.classification).transpose(),\n",
        "    'return_number':np.array(las.return_number).transpose(),\n",
        "    'number_of_returns':np.array(las.number_of_returns).transpose(),\n",
        "    'scane_angle':np.array(las.scan_angle).transpose()\n",
        "}\n",
        "\n",
        "#Transform to pandas DataFrame\n",
        "lidar_df=gpd.GeoDataFrame(l_atts,geometry=gpd.points_from_xy(xyz[:,0],xyz[:,1],xyz[:,2]),crs=rs_las.get_crs(laz_files_lst[0]))\n",
        "display(lidar_df)\n",
        "\n",
        "nums= [1,  2,  4, 6,  7, 10, 11]\n",
        "\n",
        "clrs= ['blue','beige','green','grey','purple','orange','orangered']\n",
        "\n",
        "l_sub=lidar_df.iloc[:10000]\n",
        "cdic={nums[i]: clrs[i] for i in range(len(nums))}\n",
        "fig = px.scatter_3d(l_sub,x=l_sub.geometry.x,y=l_sub.geometry.y,z=l_sub.geometry.z,color='classification',color_discrete_map=cdic,width=1600, height=800)\n",
        "fig.show()"
      ]
    },
    {
      "cell_type": "markdown",
      "id": "48bb0c72-b560-4e14-8e17-171bc55fa55e",
      "metadata": {
        "id": "48bb0c72-b560-4e14-8e17-171bc55fa55e"
      },
      "source": [
        "### Plot the las tile boundaries"
      ]
    },
    {
      "cell_type": "code",
      "execution_count": null,
      "id": "92a6a813-3920-4488-8135-6fec9a6f59b4",
      "metadata": {
        "tags": [],
        "id": "92a6a813-3920-4488-8135-6fec9a6f59b4"
      },
      "outputs": [],
      "source": [
        "import folium\n",
        "from folium import plugins\n",
        "\n",
        "display(gdf)\n",
        "\n",
        "m=gdf.explore(name='Tiles',color='orange',style_kwds={'fill':False})\n",
        "folium.TileLayer(\n",
        "        tiles = 'https://server.arcgisonline.com/ArcGIS/rest/services/World_Imagery/MapServer/tile/{z}/{y}/{x}',\n",
        "        attr = 'Esri',\n",
        "        name = 'Esri Imagery',\n",
        "        overlay = False,\n",
        "        control = True\n",
        "       ).add_to(m)\n",
        "folium.LayerControl().add_to(m)\n",
        "fs=plugins.Fullscreen()\n",
        "dr=plugins.Draw()\n",
        "lc=plugins.LocateControl()\n",
        "ms=plugins.MeasureControl(position='bottomleft')\n",
        "msp=plugins.MousePosition()\n",
        "ms.add_to(m)\n",
        "msp.add_to(m)\n",
        "lc.add_to(m)\n",
        "dr.add_to(m)\n",
        "fs.add_to(m)\n",
        "m"
      ]
    },
    {
      "cell_type": "markdown",
      "id": "89bb0ebe-983b-49d7-aba1-e6f0e60813da",
      "metadata": {
        "id": "89bb0ebe-983b-49d7-aba1-e6f0e60813da"
      },
      "source": [
        "### Exercise 1. Plot first 10,000 las points for tile 2\n",
        "- plot the boundary of those 10,000 las points over Open Street Maps background"
      ]
    },
    {
      "cell_type": "markdown",
      "id": "1d42efac-d195-468a-82bd-b32a3be7271d",
      "metadata": {
        "id": "1d42efac-d195-468a-82bd-b32a3be7271d"
      },
      "source": [
        "## Step 3: Create Las Predictors Surfaces (Raster objects 30m)\n",
        "\n",
        "- zmean\n",
        "- zmax\n",
        "- zp10, zp25, zp50, zp75, zp90, zp99\n",
        "- zfcc\n",
        "- zfsc\n",
        "- zcv\n",
        "\n",
        "### Use [rs_las](./rs_las.py) to create the metrics (aggtypes)"
      ]
    },
    {
      "cell_type": "code",
      "execution_count": null,
      "id": "9497061c-e844-49b8-8e7b-3fb3861b6720",
      "metadata": {
        "tags": [],
        "id": "9497061c-e844-49b8-8e7b-3fb3861b6720"
      },
      "outputs": [],
      "source": [
        "%%time\n",
        "aggtypes=['mean','max','quantile:0.1,0.25,0.5,0.75,0.9,0.99','zfcc','zfsc','zcv']\n",
        "rs_z=rs_las.get_raster(gdf,res,aggtypes)\n",
        "rs_z.xrs"
      ]
    },
    {
      "cell_type": "markdown",
      "id": "4cda53a1-89db-4b99-bfeb-903212c3399f",
      "metadata": {
        "id": "4cda53a1-89db-4b99-bfeb-903212c3399f"
      },
      "source": [
        "## Step 4: Visualize surfaces\n",
        "### as plots"
      ]
    },
    {
      "cell_type": "code",
      "execution_count": null,
      "id": "ca3b4a3a-0919-4964-b562-3235cbe9881c",
      "metadata": {
        "tags": [],
        "id": "ca3b4a3a-0919-4964-b562-3235cbe9881c"
      },
      "outputs": [],
      "source": [
        "#compute the data\n",
        "with ProgressBar():\n",
        "    vls=rs_z.xrs.compute()\n",
        "\n",
        "#Visualize surfaces as plots\n",
        "for r in range(vls.shape[0]):\n",
        "    vls[r].plot(figsize=(10,10),robust=True)"
      ]
    },
    {
      "cell_type": "markdown",
      "id": "d2a4becb-9d59-48ad-99f7-70c19f244dcf",
      "metadata": {
        "id": "d2a4becb-9d59-48ad-99f7-70c19f244dcf"
      },
      "source": [
        "## Step 5: Save raster surfaces"
      ]
    },
    {
      "cell_type": "code",
      "execution_count": null,
      "id": "c10a76f3-adb6-4e8c-aece-5b68287c2d56",
      "metadata": {
        "tags": [],
        "id": "c10a76f3-adb6-4e8c-aece-5b68287c2d56"
      },
      "outputs": [],
      "source": [
        "outname='Lidar_30_metrics.tif'\n",
        "vls2=Raster(vls.rio.reproject(\"epsg:4326\"))\n",
        "b=((vls2>0) & (vls2<635))\n",
        "vls3=vls2.where(b,0).set_null_value(0)\n",
        "vls3.save(outname)\n"
      ]
    },
    {
      "cell_type": "markdown",
      "id": "05393172-9210-4e20-b69c-4d39822e996c",
      "metadata": {
        "id": "05393172-9210-4e20-b69c-4d39822e996c"
      },
      "source": [
        "### Dynamically visualize outputs (Leafmap)"
      ]
    },
    {
      "cell_type": "code",
      "execution_count": null,
      "id": "73e5a22e-e805-461c-8e74-3aebcec6290b",
      "metadata": {
        "tags": [],
        "id": "73e5a22e-e805-461c-8e74-3aebcec6290b"
      },
      "outputs": [],
      "source": [
        "m = leafmap.Map()\n",
        "m.add_tile_layer(url='https://server.arcgisonline.com/ArcGIS/rest/services/World_Imagery/MapServer/tile/{z}/{y}/{x}', name = 'Esri Imagery',attribution='ESRI')\n",
        "m.add_raster(outname,bands=[11,10,9], layer_name='Lidar Metrics (11,10,9)')\n",
        "m.add_raster(outname,bands=[11], layer_name='Lidar Metrics (11)')\n",
        "m.add_raster(outname,bands=[10], layer_name='Lidar Metrics (10)')\n",
        "m.add_raster(outname,bands=[9], layer_name='Lidar Metrics (9)')\n",
        "m"
      ]
    },
    {
      "cell_type": "markdown",
      "id": "425e745c-151b-4545-be0f-0e27251a705c",
      "metadata": {
        "id": "425e745c-151b-4545-be0f-0e27251a705c"
      },
      "source": [
        "### Exercise 2: Resolution\n",
        "- change the resolution from 30 m to 5 m and rerun\n",
        "- What happend?"
      ]
    },
    {
      "cell_type": "markdown",
      "id": "11a07792-512b-4d96-a03b-677eb236f5ac",
      "metadata": {
        "id": "11a07792-512b-4d96-a03b-677eb236f5ac"
      },
      "source": [
        "## Step 6: Explore [rs_las.py](./rs_las.py)\n",
        "- what is @jit mean?\n",
        "- what does filter_las do?\n",
        "- what does get_crs do?\n",
        "- what does build_extents do?\n",
        "- what is interp_values def do?\n",
        "- why is there a interp_pts_array function?\n",
        "- what does the _ mean?\n",
        "- what does get_raster do?\n",
        "- what does calc_glcm do?\n",
        "- How does dask mapping work?"
      ]
    },
    {
      "cell_type": "markdown",
      "id": "b44b5203-ee8a-4476-91ed-47aea9ba05d4",
      "metadata": {
        "id": "b44b5203-ee8a-4476-91ed-47aea9ba05d4"
      },
      "source": [
        "### Exercise 3: Add functionality\n",
        "- create a new summary function and add it to the list of aggregation techniques\n",
        "- use your new function to process the lidar point cloud data and visualize the results"
      ]
    },
    {
      "cell_type": "markdown",
      "id": "b0ee8d74-3732-4028-9c3b-409fd92bf4e2",
      "metadata": {
        "id": "b0ee8d74-3732-4028-9c3b-409fd92bf4e2"
      },
      "source": [
        "# This ends the Process Lidar data from USGS 3Dep notebook\n",
        "## Check out the other notebooks:\n",
        "- https://github.com/jshogland/SpatialModelingTutorials/tree/main/Notebooks\n",
        "## References\n",
        "- Spatial Modeling Notebooks:  https://github.com/jshogland/SpatialModelingTutorials\n",
        "- Raster-Tools GitHub: https://github.com/UM-RMRS/raster_tools\n",
        "- Hogland's Spatial Solutions: https://sites.google.com/view/hoglandsspatialsolutions/home\n",
        "- Dask: https://dask.org/\n",
        "- Geopandas:https://geopandas.org/en/stable/\n",
        "- Xarray: https://docs.xarray.dev/en/stable/\n",
        "- Jupyter: https://jupyter.org/\n",
        "- Anaconda:https://www.anaconda.com/\n",
        "- VS Code: https://code.visualstudio.com/\n",
        "- ipywidgets: https://ipywidgets.readthedocs.io/en/latest/\n",
        "- numpy:https://numpy.org/\n",
        "- matplotlib:https://matplotlib.org/\n",
        "- folium: https://python-visualization.github.io/folium/\n",
        "- pandas: https://pandas.pydata.org/\n",
        "- sklearn: https://scikit-learn.org/stable/index.html"
      ]
    },
    {
      "cell_type": "code",
      "execution_count": null,
      "id": "9c677c0c-8ada-4440-bfb4-350f3f156dc0",
      "metadata": {
        "id": "9c677c0c-8ada-4440-bfb4-350f3f156dc0"
      },
      "outputs": [],
      "source": []
    }
  ],
  "metadata": {
    "kernelspec": {
      "display_name": "RStools Python 3.10",
      "language": "python",
      "name": "python3"
    },
    "language_info": {
      "codemirror_mode": {
        "name": "ipython",
        "version": 3
      },
      "file_extension": ".py",
      "mimetype": "text/x-python",
      "name": "python",
      "nbconvert_exporter": "python",
      "pygments_lexer": "ipython3",
      "version": "3.10.9"
    },
    "vscode": {
      "interpreter": {
        "hash": "15aae84af56cd2b2ae3c839fc9d4dadcb6e4482d73eb4114e3e5c3984e117526"
      }
    },
    "colab": {
      "provenance": [],
      "include_colab_link": true
    }
  },
  "nbformat": 4,
  "nbformat_minor": 5
}